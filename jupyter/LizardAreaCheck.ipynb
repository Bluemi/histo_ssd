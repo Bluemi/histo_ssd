{
 "cells": [
  {
   "cell_type": "code",
   "execution_count": 1,
   "id": "bbb805b2",
   "metadata": {},
   "outputs": [],
   "source": [
    "import sys\n",
    "sys.path.append('/home/alok/study/imi/masterarbeit/histo_ssd/src')\n",
    "from datasets.lizard_detection import LizardDetectionDataset\n",
    "from pathlib import Path\n",
    "import numpy as np\n",
    "from tqdm import trange\n",
    "from matplotlib import pyplot as plt\n",
    "import seaborn as sns"
   ]
  },
  {
   "cell_type": "code",
   "execution_count": 2,
   "id": "65b27187",
   "metadata": {},
   "outputs": [
    {
     "name": "stderr",
     "output_type": "stream",
     "text": [
      "Loading Dataset: 100%|███████████████████████████████████████████████████████████████████████████████████████████████████████████████████████████████████████████████████████████████████████████████████████| 238/238 [00:12<00:00, 19.31it/s]\n"
     ]
    }
   ],
   "source": [
    "ds = LizardDetectionDataset.from_datadir(\n",
    "    data_dir=Path('/home/alok/cbmi/data/LizardDataset'),\n",
    "    image_size=np.array([300, 300]),\n",
    "    image_stride=np.array([300, 300]),\n",
    "    use_cache=False,\n",
    "    show_progress=True,\n",
    "    ignore_image=True,\n",
    ")\n"
   ]
  },
  {
   "cell_type": "code",
   "execution_count": 3,
   "id": "9b850476",
   "metadata": {},
   "outputs": [],
   "source": [
    "def box_area(boxes: np.ndarray) -> np.ndarray:\n",
    "    \"\"\"\n",
    "    Calculates the area of all given boxes.\n",
    "    :param boxes: An array with shape (NUM_BOXES, 4), each sample containing (l, t, r, b).\n",
    "    :return: The area of each box with shape (NUM_BOXES,)\n",
    "    \"\"\"\n",
    "    return (boxes[:, 2] - boxes[:, 0]) * (boxes[:, 3] - boxes[:, 1])\n",
    "\n",
    "def box_mean_size(boxes: np.ndarray) -> np.ndarray:\n",
    "    return ((boxes[:, 2] - boxes[:, 0]) + (boxes[:, 3] - boxes[:, 1])) * 0.5\n",
    "\n",
    "def filter_boxes(boxes):\n",
    "    valid_box_indices = boxes[:, 0] != -1.0  # filter out invalid boxes\n",
    "    return boxes[valid_box_indices]"
   ]
  },
  {
   "cell_type": "code",
   "execution_count": 4,
   "id": "055aab15",
   "metadata": {},
   "outputs": [
    {
     "name": "stderr",
     "output_type": "stream",
     "text": [
      "100%|███████████████████████████████████████████████████████████████████████████████████████████████████████████████████████████████████████████████████████████████████████████████████████████████████| 2455/2455 [00:00<00:00, 51198.37it/s]"
     ]
    },
    {
     "name": "stdout",
     "output_type": "stream",
     "text": [
      "(321584, 5)\n"
     ]
    },
    {
     "name": "stderr",
     "output_type": "stream",
     "text": [
      "\n"
     ]
    }
   ],
   "source": [
    "all_boxes = []\n",
    "for i in trange(len(ds)):\n",
    "    sample = ds[i]\n",
    "    boxes = filter_boxes(sample['boxes'])\n",
    "    all_boxes.append(boxes)\n",
    "all_boxes = np.concatenate(all_boxes)\n",
    "print(all_boxes.shape)\n"
   ]
  },
  {
   "cell_type": "code",
   "execution_count": 5,
   "id": "4b984003",
   "metadata": {},
   "outputs": [
    {
     "name": "stdout",
     "output_type": "stream",
     "text": [
      "0.0066666603 0.21000001\n",
      "3.333327e-05 0.04019999\n"
     ]
    }
   ],
   "source": [
    "boxes = all_boxes[:, 1:]\n",
    "box_areas = box_area(boxes)\n",
    "box_mean_sizes = box_mean_size(boxes)\n",
    "box_areas = box_areas[box_mean_sizes < 0.3]\n",
    "box_mean_sizes = box_mean_sizes[box_mean_sizes < 0.3]\n",
    "\n",
    "print(np.min(box_mean_sizes), np.max(box_mean_sizes))\n",
    "print(np.min(box_areas), np.max(box_areas))"
   ]
  },
  {
   "cell_type": "code",
   "execution_count": 6,
   "id": "587f9109",
   "metadata": {},
   "outputs": [
    {
     "name": "stdout",
     "output_type": "stream",
     "text": [
      "[0.    0.004 0.008 0.012 0.016 0.02  0.024 0.028 0.032 0.036 0.04  0.044]\n"
     ]
    }
   ],
   "source": [
    "# bins = np.linspace(0, 0.2, 11)\n",
    "bins = np.linspace(0, 0.044, 11+1)\n",
    "\n",
    "print(bins)"
   ]
  },
  {
   "cell_type": "code",
   "execution_count": 7,
   "id": "ff99435c",
   "metadata": {},
   "outputs": [],
   "source": [
    "# bin_result = np.digitize(box_mean_sizes, bins)\n",
    "bin_result = np.digitize(box_areas, bins)\n",
    "values, counts = np.unique(bin_result, return_counts=True)\n",
    "value_to_count = {}\n",
    "for value, count in zip(values, counts):\n",
    "    # print(value, ': ', count, sep='')\n",
    "    value_to_count[value] = count\n",
    "\n",
    "x_ticks = []\n",
    "x = []\n",
    "y = []\n",
    "labels = []\n",
    "label_counter = 0\n",
    "for i in range(len(bins)-1):\n",
    "    x_ticks.append(i)\n",
    "    x.append(i+1)\n",
    "    y.append(value_to_count.get(i+1, 0))\n",
    "    if label_counter == 0:\n",
    "        labels.append('<{:.3f}'.format(bins[i+1]))\n",
    "    else:\n",
    "        labels.append('')\n",
    "    label_counter = (label_counter + 1) % 16\n",
    "\n",
    "#for xs, ys, l in zip(x, y, labels):\n",
    "#    print(xs, ys, l)\n",
    "# print(labels)"
   ]
  },
  {
   "cell_type": "code",
   "execution_count": 8,
   "id": "0051ba31",
   "metadata": {},
   "outputs": [
    {
     "data": {
      "image/png": "[encoded data removed]",
      "text/plain": [
       "<Figure size 1080x576 with 1 Axes>"
      ]
     },
     "metadata": {
      "needs_background": "light"
     },
     "output_type": "display_data"
    }
   ],
   "source": [
    "fig, ax = plt.subplots(figsize=(15,8))\n",
    "\n",
    "\n",
    "plt.rc('xtick', labelsize=14)\n",
    "plt.rc('ytick', labelsize=18)\n",
    "sns.barplot(x=x, y=y, ax=ax, palette=['blue'])\n",
    "ax.set_yscale('log')\n",
    "ax.set_ylabel('Anzahl', fontsize=20)\n",
    "ax.set_xlabel('Fläche', fontsize=20)\n",
    "ax.set_xticks(ticks=x_ticks, labels=labels)\n",
    "\n",
    "None"
   ]
  },
  {
   "cell_type": "code",
   "execution_count": 9,
   "id": "d0597ae0",
   "metadata": {},
   "outputs": [
    {
     "data": {
      "text/plain": [
       "0.0015970023"
      ]
     },
     "execution_count": 9,
     "metadata": {},
     "output_type": "execute_result"
    }
   ],
   "source": [
    "np.mean(box_areas)"
   ]
  },
  {
   "cell_type": "code",
   "execution_count": 11,
   "id": "f11757da",
   "metadata": {},
   "outputs": [
    {
     "name": "stderr",
     "output_type": "stream",
     "text": [
      "100%|███████████████████████████████████████████████████████████████████████████████████████████████████████████████████████████████████████████████████████████████████████████████████████████████████| 2455/2455 [00:00<00:00, 50823.11it/s]"
     ]
    },
    {
     "name": "stdout",
     "output_type": "stream",
     "text": [
      "321584\n",
      "2455\n"
     ]
    },
    {
     "name": "stderr",
     "output_type": "stream",
     "text": [
      "\n"
     ]
    }
   ],
   "source": [
    "box_length = []\n",
    "for i in trange(len(ds)):\n",
    "    boxes = filter_boxes(ds[i]['boxes'])\n",
    "    box_length.append(len(boxes))"
   ]
  },
  {
   "cell_type": "code",
   "execution_count": 14,
   "id": "4b5139b5",
   "metadata": {},
   "outputs": [
    {
     "name": "stdout",
     "output_type": "stream",
     "text": [
      "321584\n",
      "2455\n",
      "boxes per image: 130.99144602851325\n"
     ]
    }
   ],
   "source": [
    "print(sum(box_length))\n",
    "print(len(ds))\n",
    "print('boxes per image:', sum(box_length) / len(ds))"
   ]
  }
 ],
 "metadata": {
  "kernelspec": {
   "display_name": "Python 3 (ipykernel)",
   "language": "python",
   "name": "python3"
  },
  "language_info": {
   "codemirror_mode": {
    "name": "ipython",
    "version": 3
   },
   "file_extension": ".py",
   "mimetype": "text/x-python",
   "name": "python",
   "nbconvert_exporter": "python",
   "pygments_lexer": "ipython3",
   "version": "3.7.13"
  }
 },
 "nbformat": 4,
 "nbformat_minor": 5
}
